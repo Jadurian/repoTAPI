{
 "cells": [
  {
   "cell_type": "code",
   "execution_count": 10,
   "metadata": {},
   "outputs": [
    {
     "data": {
      "text/plain": [
       "[{'id': '5479590D450EB71E03258AA50083192E',\n",
       "  'fecha': '14/01/2024',\n",
       "  'nemo': 'PARTE_POST_OPERATIVO',\n",
       "  'titulo': 'Parte control post-operativo',\n",
       "  'comentario': '2',\n",
       "  'hora': '20:51',\n",
       "  'adjuntos': [{'id': 'PO240114.zip',\n",
       "    'campo': '$FILE',\n",
       "    'nombre': 'PO240114-(15/01/2024 20:51:56 ZW3).zip'}],\n",
       "  'version': '2024-01-15T20:51:00.000-03:00'},\n",
       " {'id': '01C829B4325A08D703258AC300601364',\n",
       "  'fecha': '14/01/2024',\n",
       "  'nemo': 'PARTE_POST_OPERATIVO_COMP',\n",
       "  'titulo': 'Complemento',\n",
       "  'comentario': '',\n",
       "  'hora': '14:29',\n",
       "  'adjuntos': [{'id': 'PO240114.zip',\n",
       "    'campo': '$FILE',\n",
       "    'nombre': 'PO240114-(14/02/2024 14:29:24 ZW3).zip'}],\n",
       "  'version': '2024-02-14T14:29:00.000-03:00'}]"
      ]
     },
     "metadata": {},
     "output_type": "display_data"
    },
    {
     "data": {
      "text/plain": [
       "'14/01/2024'"
      ]
     },
     "metadata": {},
     "output_type": "display_data"
    },
    {
     "name": "stdout",
     "output_type": "stream",
     "text": [
      "01C829B4325A08D703258AC300601364\n"
     ]
    }
   ],
   "source": [
    "import pandas as pd\n",
    "import requests\n",
    "\n",
    "Fecha_desde = \"2024-01-14T00:00:00.000-03:00\"\n",
    "Fecha_hasta = \"2024-01-14T23:59:59.000-03:00\"\n",
    "\n",
    "#URL para capturar Id del documento y el zip file:\n",
    "\n",
    "#Defino la tabla de CAMMESA que me voy a traer\n",
    "NEMO = \"PARTE_POST_OPERATIVO_UNIF\"\n",
    "#Busco los zip disponibles para traer así puedo extraer el id\n",
    "URL = f\"https://api.cammesa.com/pub-svc/public/\"\n",
    "method_id = \"findDocumentosByNemoRango?\"\n",
    "method_zip = \"findAllAttachmentZipByNemoId?\"\n",
    "\n",
    "#URL para capturar Id del documento y el zip file:\n",
    "\n",
    "url_doc_id = f\"{URL}{method_id}fechadesde={Fecha_desde}&fechahasta={Fecha_hasta}&nemo={NEMO}\"\n",
    "\n",
    "#conseguir el doc_id\n",
    "try:\n",
    "    with requests.get(url_doc_id) as response:\n",
    "        if response.status_code == 200:\n",
    "            PPO=response.json()\n",
    "            display(PPO)\n",
    "            display(PPO[0]['fecha'])\n",
    "            doc_id = PPO[-1]['id']\n",
    "            print(doc_id)\n",
    "        else:\n",
    "            print(\"La solicitud falló con el código de estado:\", response.status_code)\n",
    "except requests.exceptions.RequestException as e:\n",
    "    # Manejar la excepción\n",
    "    print(\"Error al realizar la solicitud:\", e)"
   ]
  },
  {
   "cell_type": "code",
   "execution_count": 11,
   "metadata": {},
   "outputs": [
    {
     "name": "stdout",
     "output_type": "stream",
     "text": [
      "2\n"
     ]
    }
   ],
   "source": [
    "print(len(PPO))"
   ]
  }
 ],
 "metadata": {
  "kernelspec": {
   "display_name": "venvPampa",
   "language": "python",
   "name": "python3"
  },
  "language_info": {
   "codemirror_mode": {
    "name": "ipython",
    "version": 3
   },
   "file_extension": ".py",
   "mimetype": "text/x-python",
   "name": "python",
   "nbconvert_exporter": "python",
   "pygments_lexer": "ipython3",
   "version": "3.11.1"
  }
 },
 "nbformat": 4,
 "nbformat_minor": 2
}
