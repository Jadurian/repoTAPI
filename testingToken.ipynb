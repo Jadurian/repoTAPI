{
 "cells": [
  {
   "cell_type": "code",
   "execution_count": 16,
   "metadata": {},
   "outputs": [],
   "source": [
    "import os\n",
    "import pandas as pd\n",
    "import zipfile\n",
    "import pyodbc\n",
    "import requests\n",
    "import io\n",
    "from datetime import datetime, timedelta\n",
    "import sqlalchemy\n",
    "from TAPI import capturar_fecha\n",
    "import keycloak\n",
    "import pycurl\n",
    "from io import BytesIO\n",
    "import json"
   ]
  },
  {
   "cell_type": "code",
   "execution_count": 18,
   "metadata": {},
   "outputs": [
    {
     "name": "stdout",
     "output_type": "stream",
     "text": [
      "Error: 404\n"
     ]
    }
   ],
   "source": [
    "import pycurl\n",
    "from io import BytesIO\n",
    "import json\n",
    "\n",
    "# Datos para la solicitud POST\n",
    "username = \"gmartinez\"\n",
    "password = \"RrFM02UY2\"\n",
    "client_secret = \"2b67241d-11e5-4ef9-90fb-ae8aae195c6b\"\n",
    "client_id = \"cds\"\n",
    "\n",
    "# Crear un objeto Curl\n",
    "curl = pycurl.Curl()\n",
    "\n",
    "# Configurar la URL a la que se hará la solicitud\n",
    "curl.setopt(curl.URL, 'https://keycloak.cammesa.com/auth/realms/Cammesa/protocol/openidconnect/token')\n",
    "\n",
    "# Crear los datos del formulario para la solicitud POST\n",
    "post_data = \"username=\" + username + \"&password=\" + password + \"&grant_type=password&client_id=\" + client_id + \"&client_secret=\" + client_secret\n",
    "\n",
    "# Configurar para enviar datos en la solicitud POST\n",
    "curl.setopt(curl.POSTFIELDS, post_data)\n",
    "\n",
    "# Configurar para almacenar la respuesta en un búfer\n",
    "buffer = BytesIO()\n",
    "curl.setopt(curl.WRITEDATA, buffer)\n",
    "\n",
    "# Ejecutar la solicitud\n",
    "curl.perform()\n",
    "\n",
    "# Obtener el código de estado de la respuesta\n",
    "status_code = curl.getinfo(curl.RESPONSE_CODE)\n",
    "\n",
    "# Verificar si la solicitud fue exitosa (código de estado 200)\n",
    "if status_code == 200:\n",
    "    # Imprimir el contenido de la respuesta\n",
    "    response_data = buffer.getvalue().decode('utf-8')\n",
    "    print(response_data)\n",
    "    # También puedes cargar la respuesta como un JSON si lo deseas\n",
    "    response_json = json.loads(response_data)\n",
    "    print(\"Access Token:\", response_json.get(\"access_token\"))\n",
    "else:\n",
    "    # Imprimir un mensaje de error si la solicitud falló\n",
    "    print(\"Error:\", status_code)\n",
    "\n",
    "# Cerrar la conexión Curl\n",
    "curl.close()\n"
   ]
  },
  {
   "cell_type": "code",
   "execution_count": 14,
   "metadata": {},
   "outputs": [
    {
     "data": {
      "text/plain": [
       "'Not Found'"
      ]
     },
     "execution_count": 14,
     "metadata": {},
     "output_type": "execute_result"
    }
   ],
   "source": []
  }
 ],
 "metadata": {
  "kernelspec": {
   "display_name": "venvPampa",
   "language": "python",
   "name": "python3"
  },
  "language_info": {
   "codemirror_mode": {
    "name": "ipython",
    "version": 3
   },
   "file_extension": ".py",
   "mimetype": "text/x-python",
   "name": "python",
   "nbconvert_exporter": "python",
   "pygments_lexer": "ipython3",
   "version": "3.11.1"
  }
 },
 "nbformat": 4,
 "nbformat_minor": 2
}
