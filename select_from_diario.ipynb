{
 "cells": [
  {
   "cell_type": "code",
   "execution_count": 1,
   "metadata": {},
   "outputs": [],
   "source": [
    "import os\n",
    "import pandas as pd\n",
    "import zipfile\n",
    "import pyodbc\n",
    "import requests\n",
    "import io\n",
    "from datetime import datetime, timedelta\n",
    "import sqlalchemy"
   ]
  },
  {
   "cell_type": "code",
   "execution_count": 2,
   "metadata": {},
   "outputs": [],
   "source": [
    "server = 'DARCCVWSQL19'\n",
    "#server = 'DESKTOP-37ESKFT\\SQLEXPRESS'\n",
    "database = 'TAPI'\n",
    "tabla = 'DiarioTest'"
   ]
  },
  {
   "cell_type": "code",
   "execution_count": 8,
   "metadata": {},
   "outputs": [
    {
     "name": "stderr",
     "output_type": "stream",
     "text": [
      "C:\\Users\\jadurian\\AppData\\Local\\Temp\\ipykernel_24188\\1236665344.py:16: UserWarning: pandas only supports SQLAlchemy connectable (engine/connection) or database string URI or sqlite3 DBAPI2 connection. Other DBAPI2 objects are not tested. Please consider using SQLAlchemy.\n",
      "  df = pd.read_sql(query, connection)\n"
     ]
    }
   ],
   "source": [
    "#SELEC * FROM Diario;\n",
    "\n",
    "connection_string = f'DRIVER=ODBC Driver 17 for SQL Server;SERVER={server};DATABASE={database};Trusted_Connection=yes;'\n",
    "\n",
    "# Conectar a la base de datos\n",
    "connection = pyodbc.connect(connection_string)\n",
    "\n",
    "# Crear un cursor para ejecutar consultas\n",
    "cursor = connection.cursor()\n",
    "\n",
    "# TODO: Crear acá la tabla en la BBDD\n",
    "#  Consulta SQL\n",
    "query = 'SELECT * FROM DiarioTest'\n",
    "\n",
    "# Ejecutar la consulta\n",
    "df = pd.read_sql(query, connection)\n",
    "\n",
    "# Cerrar el cursor\n",
    "cursor.close()"
   ]
  },
  {
   "cell_type": "code",
   "execution_count": 19,
   "metadata": {},
   "outputs": [
    {
     "name": "stderr",
     "output_type": "stream",
     "text": [
      "C:\\Users\\jadurian\\AppData\\Local\\Temp\\ipykernel_24188\\3350006401.py:16: UserWarning: pandas only supports SQLAlchemy connectable (engine/connection) or database string URI or sqlite3 DBAPI2 connection. Other DBAPI2 objects are not tested. Please consider using SQLAlchemy.\n",
      "  df = pd.read_sql(query, connection)\n"
     ]
    }
   ],
   "source": [
    "#SELEC * FROM Diario;\n",
    "\n",
    "connection_string = f'DRIVER=ODBC Driver 17 for SQL Server;SERVER={server};DATABASE={database};Trusted_Connection=yes;'\n",
    "\n",
    "# Conectar a la base de datos\n",
    "connection = pyodbc.connect(connection_string)\n",
    "\n",
    "# Crear un cursor para ejecutar consultas\n",
    "cursor = connection.cursor()\n",
    "\n",
    "# TODO: Crear acá la tabla en la BBDD\n",
    "#  Consulta SQL\n",
    "query = \"SELECT * FROM DiarioTest\"\n",
    "\n",
    "# Ejecutar la consulta\n",
    "df = pd.read_sql(query, connection)\n",
    "\n",
    "# Cerrar el cursor\n",
    "cursor.close()"
   ]
  }
 ],
 "metadata": {
  "kernelspec": {
   "display_name": "venvPC",
   "language": "python",
   "name": "python3"
  },
  "language_info": {
   "codemirror_mode": {
    "name": "ipython",
    "version": 3
   },
   "file_extension": ".py",
   "mimetype": "text/x-python",
   "name": "python",
   "nbconvert_exporter": "python",
   "pygments_lexer": "ipython3",
   "version": "3.11.1"
  }
 },
 "nbformat": 4,
 "nbformat_minor": 2
}
