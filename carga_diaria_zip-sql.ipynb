{
 "cells": [
  {
   "cell_type": "code",
   "execution_count": 5,
   "metadata": {},
   "outputs": [
    {
     "name": "stderr",
     "output_type": "stream",
     "text": [
      "c:\\Users\\jadurian\\Documents\\Tapi\\TAPI\\ultimo_dia_sql.py:35: UserWarning: pandas only supports SQLAlchemy connectable (engine/connection) or database string URI or sqlite3 DBAPI2 connection. Other DBAPI2 objects are not tested. Please consider using SQLAlchemy.\n",
      "  df = pd.read_sql(query, connection)\n"
     ]
    }
   ],
   "source": [
    "import os\n",
    "import pandas as pd\n",
    "import zipfile\n",
    "import pyodbc\n",
    "import requests\n",
    "import io\n",
    "from datetime import datetime, timedelta\n",
    "import sqlalchemy\n",
    "import urllib\n",
    "\n",
    "from TAPI import ultimodocumento, ultimo_dia_sql\n",
    "\n",
    "def iterar_entre_fechas(fecha_desde, fecha_hasta):\n",
    "    fecha_actual = datetime.strptime(fecha_desde, \"%Y-%m-%dT%H:%M:%S.%f%z\")\n",
    "    fecha_fin = datetime.strptime(fecha_hasta, \"%Y-%m-%dT%H:%M:%S.%f%z\")\n",
    "\n",
    "    # Asegurarse de que fecha_actual sea exactamente a la medianoche\n",
    "    fecha_actual = fecha_actual.replace(hour=0, minute=0, second=0, microsecond=0)\n",
    "\n",
    "    while fecha_actual <= fecha_fin:\n",
    "        fecha_siguiente = fecha_actual + timedelta(hours=23, minutes=59)\n",
    "        yield fecha_actual, fecha_siguiente\n",
    "        # Añadir un día para la próxima iteración\n",
    "        fecha_actual += timedelta(days=1)"
   ]
  },
  {
   "cell_type": "code",
   "execution_count": 18,
   "metadata": {},
   "outputs": [],
   "source": [
    "fecha_hasta = ultimodocumento.ultimo_dia_CAMM()\n",
    "fecha_hasta_obj = datetime.strptime(fecha_hasta, \"%Y-%m-%d\")\n",
    "fecha_hasta_iso = fecha_hasta_obj.isoformat()"
   ]
  },
  {
   "cell_type": "code",
   "execution_count": 19,
   "metadata": {},
   "outputs": [
    {
     "data": {
      "text/plain": [
       "'2024-03-24T00:00:00'"
      ]
     },
     "execution_count": 19,
     "metadata": {},
     "output_type": "execute_result"
    }
   ],
   "source": [
    "fecha_hasta_iso"
   ]
  },
  {
   "cell_type": "code",
   "execution_count": null,
   "metadata": {},
   "outputs": [],
   "source": [
    "#fecha desde\n",
    "\n"
   ]
  }
 ],
 "metadata": {
  "kernelspec": {
   "display_name": "venvPC",
   "language": "python",
   "name": "python3"
  },
  "language_info": {
   "codemirror_mode": {
    "name": "ipython",
    "version": 3
   },
   "file_extension": ".py",
   "mimetype": "text/x-python",
   "name": "python",
   "nbconvert_exporter": "python",
   "pygments_lexer": "ipython3",
   "version": "3.11.1"
  }
 },
 "nbformat": 4,
 "nbformat_minor": 2
}
