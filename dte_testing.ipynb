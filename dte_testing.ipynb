{
 "cells": [
  {
   "cell_type": "code",
   "execution_count": 6,
   "metadata": {},
   "outputs": [],
   "source": [
    "import os\n",
    "import pandas as pd\n",
    "import zipfile\n",
    "import pyodbc\n",
    "import requests\n",
    "import io\n",
    "from datetime import datetime, timedelta\n",
    "import sqlalchemy\n",
    "import urllib"
   ]
  },
  {
   "cell_type": "code",
   "execution_count": 2,
   "metadata": {},
   "outputs": [],
   "source": [
    "NEMO = \"DTE_EMISION\"\n",
    "\n",
    "URL = f\"https://api.cammesa.com/pub-svc/public/\"\n",
    "\n",
    "method_id = \"findDocumentosByNemoRango?\" #ID\n",
    "method_zip = \"findAllAttachmentZipByNemoId?\"\n",
    "\n",
    "fecha_desde = \"2024-03-31T00:00:00.000-03:00\"\n",
    "fecha_hasta = \"2024-04-30T23:59:59.000-03:00\""
   ]
  },
  {
   "cell_type": "code",
   "execution_count": 4,
   "metadata": {},
   "outputs": [],
   "source": [
    "url_doc_id = f\"{URL}{method_id}fechadesde={fecha_desde}&fechahasta={fecha_hasta}&nemo={NEMO}\""
   ]
  },
  {
   "cell_type": "markdown",
   "metadata": {},
   "source": []
  },
  {
   "cell_type": "code",
   "execution_count": 7,
   "metadata": {},
   "outputs": [],
   "source": [
    "try:\n",
    "    with requests.get(url_doc_id) as response:\n",
    "        if response.status_code == 200:\n",
    "            PPO=response.json()\n",
    "            doc_id = PPO[-1]['id']\n",
    "        else:\n",
    "            print(\"La solicitud falló con el código de estado:\", response.status_code)\n",
    "except requests.exceptions.RequestException as e:\n",
    "    # Manejar la excepción\n",
    "    print(\"Error al realizar la solicitud:\", e)"
   ]
  },
  {
   "cell_type": "code",
   "execution_count": 8,
   "metadata": {},
   "outputs": [],
   "source": [
    "url_zip = f\"{URL}{method_zip}docId={doc_id}&nemo={NEMO}\""
   ]
  },
  {
   "cell_type": "code",
   "execution_count": 42,
   "metadata": {},
   "outputs": [
    {
     "name": "stdout",
     "output_type": "stream",
     "text": [
      ".zips\\DTE2404.zip\n",
      "None\n",
      "DTE2404\n"
     ]
    }
   ],
   "source": [
    "try:\n",
    "    with requests.get(url_zip) as r:\n",
    "        if r.status_code == 200:\n",
    "            \n",
    "            with zipfile.ZipFile(io.BytesIO(r.content)) as z:\n",
    "                \n",
    "                directory = f\"{z.namelist()[0]}\"\n",
    "\n",
    "                # Parent Directory path\n",
    "                parent_dir = \".zips\"\n",
    "                # Path\n",
    "                path = os.path.join(parent_dir, directory)\n",
    "        \n",
    "                # os.mkdir(path=path)\n",
    "                # # Extraer todos los archivos del ZIP en el directorio específico\n",
    "                # z.extractall(path=path)\n",
    "                print(path)\n",
    "                print(z.filename)\n",
    "                print(directory[:7])\n",
    "\n",
    "                with zipfile.ZipFile(file=f\"{path}\\{directory}\") as myzip:\n",
    "                    with myzip.open(f'{directory[:7]}.mdb') as myfile:\n",
    "                        \n",
    "                        conn_str = f\"Driver={{Microsoft Access Driver (*.mdb, *.accdb)}};DBQ={mdb_file};\"\n",
    "                        conn = pyodbc.connect(conn_str)\n",
    "                \n",
    "        else:\n",
    "            print(\"La solicitud falló con el código de estado:\", response.status_code)\n",
    "\n",
    "except requests.exceptions.RequestException as e:\n",
    "    # Manejar la excepción\n",
    "    print(\"Error al realizar la solicitud:\", e)"
   ]
  }
 ],
 "metadata": {
  "kernelspec": {
   "display_name": ".venv",
   "language": "python",
   "name": "python3"
  },
  "language_info": {
   "codemirror_mode": {
    "name": "ipython",
    "version": 3
   },
   "file_extension": ".py",
   "mimetype": "text/x-python",
   "name": "python",
   "nbconvert_exporter": "python",
   "pygments_lexer": "ipython3",
   "version": "3.11.8"
  }
 },
 "nbformat": 4,
 "nbformat_minor": 2
}
