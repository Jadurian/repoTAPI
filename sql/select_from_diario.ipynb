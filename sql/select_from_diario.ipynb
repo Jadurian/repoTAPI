{
 "cells": [
  {
   "cell_type": "code",
   "execution_count": 1,
   "metadata": {},
   "outputs": [],
   "source": [
    "import os\n",
    "import pandas as pd\n",
    "import zipfile\n",
    "import pyodbc\n",
    "import requests\n",
    "import io\n",
    "from datetime import datetime, timedelta\n",
    "import sqlalchemy\n",
    "import warnings\n",
    "\n",
    "warnings.filterwarnings('ignore')\n"
   ]
  },
  {
   "cell_type": "code",
   "execution_count": 11,
   "metadata": {},
   "outputs": [],
   "source": [
    "server = 'DARCCVWSQL19'\n",
    "#server = 'DESKTOP-37ESKFT\\SQLEXPRESS'\n",
    "database = 'TAPI'\n",
    "tabla_nc = 'Valores_Gen_Diario_Automatico'\n",
    "tabla_c = 'GenMATER_Corregidos'\n",
    "tabla = "
   ]
  },
  {
   "cell_type": "code",
   "execution_count": 12,
   "metadata": {},
   "outputs": [],
   "source": [
    "#SELEC * FROM Diario;\n",
    "\n",
    "connection_string = f'DRIVER=ODBC Driver 17 for SQL Server;SERVER={server};DATABASE={database};Trusted_Connection=yes;'\n",
    "\n",
    "# Conectar a la base de datos\n",
    "connection = pyodbc.connect(connection_string)\n",
    "\n",
    "# Crear un cursor para ejecutar consultas\n",
    "cursor = connection.cursor()\n",
    "\n",
    "# TODO: Crear acá la tabla en la BBDD\n",
    "#  Consulta SQL\n",
    "# query_nc = f\"SELECT * FROM {tabla_nc} where FECHA > '2023-01-01' and FECHA <= '2024-04-30';\"\n",
    "\n",
    "query_c = f\"SELECT * FROM {tabla_c} where FECHA >= '2023-01-01' and FECHA <= '2023-03-31';\"\n",
    "# Ejecutar la consulta\n",
    "df_c = pd.read_sql(query_c, connection)\n",
    "# df_nc = pd.read_sql(query_nc, connection)\n",
    "\n",
    "\n",
    "# Cerrar el cursor\n",
    "cursor.close()"
   ]
  },
  {
   "cell_type": "code",
   "execution_count": 14,
   "metadata": {},
   "outputs": [
    {
     "name": "stdout",
     "output_type": "stream",
     "text": [
      "<class 'pandas.core.frame.DataFrame'>\n",
      "RangeIndex: 4 entries, 0 to 3\n",
      "Data columns (total 13 columns):\n",
      " #   Column              Non-Null Count  Dtype  \n",
      "---  ------              --------------  -----  \n",
      " 0   index               4 non-null      int64  \n",
      " 1   FECHA               4 non-null      object \n",
      " 2   AGENTE              4 non-null      object \n",
      " 3   CONJUNTO            3 non-null      object \n",
      " 4   UNIDAD              3 non-null      object \n",
      " 5   ESCALA              3 non-null      object \n",
      " 6   ENERGIA_TOTAL       4 non-null      float64\n",
      " 7   ENERGIA_CONTRATADA  4 non-null      float64\n",
      " 8   VTA_ENERGIA         4 non-null      float64\n",
      " 9   VTA_PREC_REN        4 non-null      float64\n",
      " 10  REMUN_PREC_REN      4 non-null      float64\n",
      " 11  VTA_ENE_RESTO       4 non-null      float64\n",
      " 12  REMUN_ENE_BASE      4 non-null      float64\n",
      "dtypes: float64(7), int64(1), object(5)\n",
      "memory usage: 544.0+ bytes\n"
     ]
    }
   ],
   "source": [
    "df_c.info()"
   ]
  }
 ],
 "metadata": {
  "kernelspec": {
   "display_name": "venvPC",
   "language": "python",
   "name": "python3"
  },
  "language_info": {
   "codemirror_mode": {
    "name": "ipython",
    "version": 3
   },
   "file_extension": ".py",
   "mimetype": "text/x-python",
   "name": "python",
   "nbconvert_exporter": "python",
   "pygments_lexer": "ipython3",
   "version": "3.11.1"
  }
 },
 "nbformat": 4,
 "nbformat_minor": 2
}
