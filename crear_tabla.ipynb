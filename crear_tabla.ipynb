{
 "cells": [
  {
   "cell_type": "code",
   "execution_count": 1,
   "metadata": {},
   "outputs": [],
   "source": [
    "import os\n",
    "import pandas as pd\n",
    "import zipfile\n",
    "import pyodbc\n",
    "import requests\n",
    "import io\n",
    "from datetime import datetime, timedelta\n",
    "import sqlalchemy"
   ]
  },
  {
   "cell_type": "code",
   "execution_count": 2,
   "metadata": {},
   "outputs": [],
   "source": [
    "server = 'DARCCVWSQL19'\n",
    "#server = 'DESKTOP-37ESKFT\\SQLEXPRESS'\n",
    "database = 'TAPI'\n",
    "#tabla = \"DiarioTest\"\n",
    "tabla = \"Hist_Bk\""
   ]
  },
  {
   "cell_type": "code",
   "execution_count": 3,
   "metadata": {},
   "outputs": [
    {
     "name": "stdout",
     "output_type": "stream",
     "text": [
      "Conexión exitosa a la base de datos SQL Server.\n"
     ]
    }
   ],
   "source": [
    "# Cadena de conexión\n",
    "connection_string = f'DRIVER=ODBC Driver 17 for SQL Server;SERVER={server};DATABASE={database};Trusted_Connection=yes;'\n",
    " \n",
    "try:\n",
    "    # Intentar establecer la conexión\n",
    "    connection = pyodbc.connect(connection_string)\n",
    " \n",
    "    # Si no hay errores, la conexión se ha establecido correctamente\n",
    "    print(\"Conexión exitosa a la base de datos SQL Server.\")\n",
    " \n",
    "    # Cerrar la conexión\n",
    "    connection.close()\n",
    "except pyodbc.Error as e:\n",
    "    # Manejar los errores de conexión\n",
    "    print(f\"Error al conectar a la base de datos: {e}\")"
   ]
  },
  {
   "cell_type": "code",
   "execution_count": 23,
   "metadata": {},
   "outputs": [
    {
     "ename": "ProgrammingError",
     "evalue": "('42000', \"[42000] [Microsoft][ODBC Driver 17 for SQL Server][SQL Server]Incorrect syntax near the keyword 'PRIMARY'. (156) (SQLExecDirectW)\")",
     "output_type": "error",
     "traceback": [
      "\u001b[1;31m---------------------------------------------------------------------------\u001b[0m",
      "\u001b[1;31mProgrammingError\u001b[0m                          Traceback (most recent call last)",
      "Cell \u001b[1;32mIn[23], line 59\u001b[0m\n\u001b[0;32m     14\u001b[0m query \u001b[38;5;241m=\u001b[39m \u001b[38;5;124mf\u001b[39m\u001b[38;5;124m'''\u001b[39m\u001b[38;5;124mCREATE TABLE \u001b[39m\u001b[38;5;132;01m{\u001b[39;00mtabla\u001b[38;5;132;01m}\u001b[39;00m\u001b[38;5;124m (\u001b[39m\n\u001b[0;32m     15\u001b[0m \u001b[38;5;124m    index PRIMARY KEY,\u001b[39m\n\u001b[0;32m     16\u001b[0m \u001b[38;5;124m    FECHA DATE,\u001b[39m\n\u001b[1;32m   (...)\u001b[0m\n\u001b[0;32m     55\u001b[0m \u001b[38;5;124m    CGU_GAS_CEDIDO FLOAT,\u001b[39m\n\u001b[0;32m     56\u001b[0m \u001b[38;5;124m)\u001b[39m\u001b[38;5;124m'''\u001b[39m\n\u001b[0;32m     58\u001b[0m \u001b[38;5;66;03m# Ejecutar la consulta\u001b[39;00m\n\u001b[1;32m---> 59\u001b[0m \u001b[43mcursor\u001b[49m\u001b[38;5;241;43m.\u001b[39;49m\u001b[43mexecute\u001b[49m\u001b[43m(\u001b[49m\u001b[43mquery\u001b[49m\u001b[43m)\u001b[49m\n\u001b[0;32m     60\u001b[0m \u001b[38;5;66;03m# Confirmar los cambios en la base de datosW\u001b[39;00m\n\u001b[0;32m     61\u001b[0m connection\u001b[38;5;241m.\u001b[39mcommit()\n",
      "\u001b[1;31mProgrammingError\u001b[0m: ('42000', \"[42000] [Microsoft][ODBC Driver 17 for SQL Server][SQL Server]Incorrect syntax near the keyword 'PRIMARY'. (156) (SQLExecDirectW)\")"
     ]
    }
   ],
   "source": [
    "# CREACION DE TABLA \n",
    "\n",
    "# Crear la cadena de conexión\n",
    "connection_string = f'DRIVER=ODBC Driver 17 for SQL Server;SERVER={server};DATABASE={database};Trusted_Connection=yes;'\n",
    "\n",
    "# Conectar a la base de datos\n",
    "connection = pyodbc.connect(connection_string)\n",
    "\n",
    "# Crear un cursor para ejecutar consultas\n",
    "cursor = connection.cursor()\n",
    "\n",
    "# TODO: Crear acá la tabla en la BBDD\n",
    "#  Consulta SQL\n",
    "query = f'''CREATE TABLE {tabla} (\n",
    "    index PRIMARY KEY,\n",
    "    FECHA DATE,\n",
    "    GRUPO VARCHAR(50),\n",
    "    HORA INT,\n",
    "    ARL INT,\n",
    "    ESTADO_OPE VARCHAR(50),\n",
    "    PI_SOTR FLOAT,\n",
    "    ARL_ECON INT,\n",
    "    EST_REMUN VARCHAR(50),\n",
    "    ENERGIA FLOAT,\n",
    "    PRECIO_NODO FLOAT,\n",
    "    PR_REM_ENERGIA FLOAT,\n",
    "    SMEC VARCHAR(50),\n",
    "    POT_DISP FLOAT,\n",
    "    POT_OPE_CPO FLOAT,\n",
    "    COMPRA_SPOT FLOAT,\n",
    "    SCTD FLOAT,\n",
    "    SCO FLOAT,\n",
    "    PIND FLOAT,\n",
    "    PINDPROG FLOAT,\n",
    "    PINDFORZ FLOAT,\n",
    "    POT_DISP_GAS FLOAT,\n",
    "    POT_DISP_RESERVA FLOAT,\n",
    "    GAS_NOMINADO FLOAT,\n",
    "    COSTO_406 FLOAT,\n",
    "    REM_ADICIONAL FLOAT,\n",
    "    DESP_ECON VARCHAR(50),\n",
    "    CCM FLOAT,\n",
    "    CFO FLOAT,\n",
    "    CGN FLOAT,\n",
    "    CGO FLOAT,\n",
    "    POT_DISP_R19 FLOAT,\n",
    "    FACTOR_KM FLOAT,\n",
    "    HORA_REPRESENTATIVA VARCHAR(50),\n",
    "    ENERG_GEN_TRANSAC FLOAT,\n",
    "    ENERG_OPE_TRANSAC FLOAT,\n",
    "    SOBREC_FORZ_PROPIO FLOAT,\n",
    "    PGENE_RES354 FLOAT,\n",
    "    CGU_PROPIO FLOAT,\n",
    "    CGU_MEM FLOAT,\n",
    "    CGU_GAS_CEDIDO FLOAT,\n",
    ")'''\n",
    "\n",
    "# Ejecutar la consulta\n",
    "cursor.execute(query)\n",
    "# Confirmar los cambios en la base de datosW\n",
    "connection.commit()\n",
    "# Cerrar el cursor\n",
    "cursor.close()"
   ]
  },
  {
   "cell_type": "markdown",
   "metadata": {},
   "source": []
  },
  {
   "cell_type": "code",
   "execution_count": null,
   "metadata": {},
   "outputs": [],
   "source": []
  },
  {
   "cell_type": "markdown",
   "metadata": {},
   "source": []
  },
  {
   "cell_type": "code",
   "execution_count": null,
   "metadata": {},
   "outputs": [],
   "source": []
  }
 ],
 "metadata": {
  "kernelspec": {
   "display_name": "venvPC",
   "language": "python",
   "name": "python3"
  },
  "language_info": {
   "codemirror_mode": {
    "name": "ipython",
    "version": 3
   },
   "file_extension": ".py",
   "mimetype": "text/x-python",
   "name": "python",
   "nbconvert_exporter": "python",
   "pygments_lexer": "ipython3",
   "version": "3.11.1"
  }
 },
 "nbformat": 4,
 "nbformat_minor": 2
}
