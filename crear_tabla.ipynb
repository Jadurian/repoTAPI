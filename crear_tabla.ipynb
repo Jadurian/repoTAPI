{
 "cells": [
  {
   "cell_type": "code",
   "execution_count": 2,
   "metadata": {},
   "outputs": [],
   "source": [
    "import os\n",
    "import pandas as pd\n",
    "import zipfile\n",
    "import pyodbc\n",
    "import requests\n",
    "import io\n",
    "from datetime import datetime, timedelta\n",
    "import sqlalchemy"
   ]
  },
  {
   "cell_type": "code",
   "execution_count": 5,
   "metadata": {},
   "outputs": [],
   "source": [
    "server = 'DARCCVWSQL19'\n",
    "#server = 'DESKTOP-37ESKFT\\SQLEXPRESS'\n",
    "database = 'TAPI'\n",
    "tabla = \"DiarioTest\""
   ]
  },
  {
   "cell_type": "code",
   "execution_count": 6,
   "metadata": {},
   "outputs": [
    {
     "name": "stdout",
     "output_type": "stream",
     "text": [
      "Conexión exitosa a la base de datos SQL Server.\n"
     ]
    }
   ],
   "source": [
    "# Cadena de conexión\n",
    "connection_string = f'DRIVER=ODBC Driver 17 for SQL Server;SERVER={server};DATABASE={database};Trusted_Connection=yes;'\n",
    " \n",
    "try:\n",
    "    # Intentar establecer la conexión\n",
    "    connection = pyodbc.connect(connection_string)\n",
    " \n",
    "    # Si no hay errores, la conexión se ha establecido correctamente\n",
    "    print(\"Conexión exitosa a la base de datos SQL Server.\")\n",
    " \n",
    "    # Cerrar la conexión\n",
    "    connection.close()\n",
    "except pyodbc.Error as e:\n",
    "    # Manejar los errores de conexión\n",
    "    print(f\"Error al conectar a la base de datos: {e}\")"
   ]
  },
  {
   "cell_type": "code",
   "execution_count": null,
   "metadata": {},
   "outputs": [],
   "source": [
    "# CREACION DE TABLA \n",
    "\n",
    "# Crear la cadena de conexión\n",
    "connection_string = f'DRIVER=ODBC Driver 17 for SQL Server;SERVER={server};DATABASE={database};Trusted_Connection=yes;'\n",
    "\n",
    "# Conectar a la base de datos\n",
    "connection = pyodbc.connect(connection_string)\n",
    "\n",
    "# Crear un cursor para ejecutar consultas\n",
    "cursor = connection.cursor()\n",
    "\n",
    "# TODO: Crear acá la tabla en la BBDD\n",
    "#  Consulta SQL\n",
    "query = f'''CREATE TABLE DiarioTest (\n",
    "    ID INT PRIMARY KEY,\n",
    "    FECHA DATE,\n",
    "    GRUPO VARCHAR(50),\n",
    "    HORA INT,\n",
    "    ARL INT,\n",
    "    ESTADO_OPE VARCHAR(50),\n",
    "    PI_SOTR FLOAT,\n",
    "    ARL_ECON INT,\n",
    "    EST_REMUN VARCHAR(50),\n",
    "    ENERGIA FLOAT,\n",
    "    PRECIO_NODO FLOAT,\n",
    "    PR_REM_ENERGIA FLOAT,\n",
    "    SMEC VARCHAR(50),\n",
    "    POT_DISP FLOAT,\n",
    "    POT_OPE_CPO FLOAT,\n",
    "    COMPRA_SPOT FLOAT,\n",
    "    SCTD FLOAT,\n",
    "    SCO FLOAT,\n",
    "    PIND FLOAT,\n",
    "    PINDPROG FLOAT,\n",
    "    PINDFORZ FLOAT,\n",
    "    POT_DISP_GAS FLOAT,\n",
    "    POT_DISP_RESERVA FLOAT,\n",
    "    GAS_NOMINADO FLOAT,\n",
    "    COSTO_406 FLOAT,\n",
    "    REM_ADICIONAL FLOAT,\n",
    "    DESP_ECON VARCHAR(50),\n",
    "    CCM FLOAT,\n",
    "    CFO FLOAT,\n",
    "    CGN FLOAT,\n",
    "    CGO FLOAT,\n",
    "    POT_DISP_R19 FLOAT,\n",
    "    FACTOR_KM FLOAT,\n",
    "    HORA_REPRESENTATIVA VARCHAR(50),\n",
    "    ENERG_GEN_TRANSAC FLOAT,\n",
    "    ENERG_OPE_TRANSAC FLOAT,\n",
    "    SOBREC_FORZ_PROPIO FLOAT,\n",
    "    PGENE_RES354 FLOAT,\n",
    "    CGU_PROPIO FLOAT,\n",
    "    CGU_MEM FLOAT,\n",
    "    CGU_GAS_CEDIDO FLOAT\n",
    ")'''\n",
    "\n",
    "# Ejecutar la consulta\n",
    "cursor.execute(query)\n",
    "# Confirmar los cambios en la base de datosW\n",
    "connection.commit()\n",
    "# Cerrar el cursor\n",
    "cursor.close()"
   ]
  }
 ],
 "metadata": {
  "kernelspec": {
   "display_name": "venvPC",
   "language": "python",
   "name": "python3"
  },
  "language_info": {
   "codemirror_mode": {
    "name": "ipython",
    "version": 3
   },
   "file_extension": ".py",
   "mimetype": "text/x-python",
   "name": "python",
   "nbconvert_exporter": "python",
   "pygments_lexer": "ipython3",
   "version": "3.11.1"
  }
 },
 "nbformat": 4,
 "nbformat_minor": 2
}
