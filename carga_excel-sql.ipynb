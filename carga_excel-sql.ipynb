{
 "cells": [
  {
   "cell_type": "markdown",
   "metadata": {},
   "source": [
    "#### Codigo que carga data de excel a la tabla de sql"
   ]
  },
  {
   "cell_type": "code",
   "execution_count": 1,
   "metadata": {},
   "outputs": [],
   "source": [
    "import os\n",
    "import pandas as pd\n",
    "import zipfile\n",
    "import pyodbc\n",
    "import requests\n",
    "import io\n",
    "from datetime import datetime, timedelta\n",
    "import sqlalchemy\n",
    "import urllib"
   ]
  },
  {
   "cell_type": "code",
   "execution_count": 2,
   "metadata": {},
   "outputs": [],
   "source": [
    "server = 'DARCCVWSQL19'\n",
    "#server = 'DESKTOP-37ESKFT\\SQLEXPRESS'\n",
    "database = 'TAPI'\n",
    "tabla = 'DiarioTest'"
   ]
  },
  {
   "cell_type": "code",
   "execution_count": 3,
   "metadata": {},
   "outputs": [
    {
     "name": "stdout",
     "output_type": "stream",
     "text": [
      "Conexión exitosa a la base de datos SQL Server.\n"
     ]
    }
   ],
   "source": [
    "# Test conexión\n",
    "connection_string = f'DRIVER=ODBC Driver 17 for SQL Server;SERVER={server};DATABASE={database};Trusted_Connection=yes;'\n",
    " \n",
    "try:\n",
    "    # Intentar establecer la conexión\n",
    "    connection = pyodbc.connect(connection_string)\n",
    " \n",
    "    # Si no hay errores, la conexión se ha establecido correctamente\n",
    "    print(\"Conexión exitosa a la base de datos SQL Server.\")\n",
    " \n",
    "    # Cerrar la conexión\n",
    "    connection.close()\n",
    "except pyodbc.Error as e:\n",
    "    # Manejar los errores de conexión\n",
    "    print(f\"Error al conectar a la base de datos: {e}\")"
   ]
  },
  {
   "cell_type": "code",
   "execution_count": 4,
   "metadata": {},
   "outputs": [
    {
     "name": "stdout",
     "output_type": "stream",
     "text": [
      "df_POSOP_diario.xlsx\n"
     ]
    }
   ],
   "source": [
    "#Escribir el path completo al excel o en la raiz del notebook\n",
    "\n",
    "#excel_path = r\"C:\\Users\\jony\\OneDrive - Pampa Energia\\CDD - Tablero de Análisis de Perdidas de Ingresos\\Documentación\\2-Fuente de Datos\\df_POSOP_diario.xlsx\"\n",
    "excel_path = r\"C:\\Users\\jadurian\\OneDrive - Pampa Energia\\CDD - Tablero de Análisis de Perdidas de Ingresos\\Codigo\\Consulta diaria\\df_POSOP_diario.xlsx\"\n",
    "name_excel = os.path.basename(excel_path)\n",
    "print(name_excel)\n",
    "\n",
    "# Leer los datos de Excel\n",
    "df = pd.read_excel(excel_path, sheet_name=\"Sheet1\")"
   ]
  },
  {
   "cell_type": "code",
   "execution_count": 8,
   "metadata": {},
   "outputs": [
    {
     "data": {
      "text/plain": [
       "Index(['FECHA', 'GRUPO', 'HORA', 'ARL', 'ESTADO_OPE', 'PI_SOTR', 'ARL_ECON',\n",
       "       'EST_REMUN', 'ENERGIA', 'PRECIO_NODO', 'PR_REM_ENERGIA', 'SMEC',\n",
       "       'POT_DISP', 'POT_OPE_CPO', 'COMPRA_SPOT', 'SCTD', 'SCO', 'PIND',\n",
       "       'PINDPROG', 'PINDFORZ', 'POT_DISP_GAS', 'POT_DISP_RESERVA',\n",
       "       'GAS_NOMINADO', 'COSTO_406', 'REM_ADICIONAL', 'DESP_ECON', 'CCM', 'CFO',\n",
       "       'CGN', 'CGO', 'POT_DISP_R19', 'FACTOR_KM', 'HORA_REPRESENTATIVA',\n",
       "       'ENERG_GEN_TRANSAC', 'ENERG_OPE_TRANSAC', 'SOBREC_FORZ_PROPIO',\n",
       "       'PGENE_RES354', 'CGU_PROPIO', 'CGU_MEM', 'CGU_GAS_CEDIDO'],\n",
       "      dtype='object')"
      ]
     },
     "execution_count": 8,
     "metadata": {},
     "output_type": "execute_result"
    }
   ],
   "source": [
    "df.columns"
   ]
  },
  {
   "cell_type": "code",
   "execution_count": 7,
   "metadata": {},
   "outputs": [],
   "source": [
    "# En caso de tener que renombrar o re ubicar columnas:\n",
    "\n",
    "# Renombrar la columna\n",
    "#df.rename(columns={'Fecha_dia': 'FECHA'}, inplace=True)\n",
    "\n",
    "# Posicionar la nueva columna como la primera columna\n",
    "nuevas_columnas = ['FECHA'] + [col for col in df if col != 'FECHA']\n",
    "df = df.reindex(columns=nuevas_columnas)"
   ]
  },
  {
   "cell_type": "code",
   "execution_count": 9,
   "metadata": {},
   "outputs": [
    {
     "data": {
      "text/plain": [
       "14"
      ]
     },
     "execution_count": 9,
     "metadata": {},
     "output_type": "execute_result"
    }
   ],
   "source": [
    "#Cargamos el Dataframe a la tabla de sql con sqlalchemy\n",
    "\n",
    "tabla = 'DiarioTest'\n",
    "\n",
    "quoted = urllib.parse.quote_plus(connection_string)\n",
    "\n",
    "engine = sqlalchemy.create_engine('mssql+pyodbc:///?odbc_connect={}'.format(quoted))\n",
    "\n",
    "df.to_sql(tabla, schema='dbo', con=engine, if_exists='replace')"
   ]
  }
 ],
 "metadata": {
  "kernelspec": {
   "display_name": "venvPampa",
   "language": "python",
   "name": "python3"
  },
  "language_info": {
   "codemirror_mode": {
    "name": "ipython",
    "version": 3
   },
   "file_extension": ".py",
   "mimetype": "text/x-python",
   "name": "python",
   "nbconvert_exporter": "python",
   "pygments_lexer": "ipython3",
   "version": "3.11.1"
  }
 },
 "nbformat": 4,
 "nbformat_minor": 2
}
