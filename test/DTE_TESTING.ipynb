{
 "cells": [
  {
   "cell_type": "code",
   "execution_count": 3,
   "metadata": {},
   "outputs": [],
   "source": [
    "import requests\n",
    "import zipfile\n",
    "import io\n",
    "import os\n",
    "\n",
    "url = \"https://api.cammesa.com/pub-svc/public/findAllAttachmentZipByNemoId?docId=FFABF73C69B006BD03258B18002191F9&nemo=DTE_EMISION\"\n",
    "#url = \"https://api.cammesa.com/pub-svc/public/findAllAttachmentZipByNemoId?docId=FD2C3B3F0D5A9C6803258AF5000114C9&nemo=PARTE_POST_OPERATIVO\"\n",
    "try:\n",
    "    with requests.get(url) as response:\n",
    "        if response.status_code == 200:\n",
    "\n",
    "            # Crear un objeto ZipFile a partir del contenido descargado\n",
    "            z = zipfile.ZipFile(io.BytesIO(response.content))\n",
    "\n",
    "            # Directorio de destino para extraer los archivos ZIP\n",
    "            destination_directory = \"./.zips\"\n",
    "\n",
    "            # Extraer todos los archivos del ZIP en el directorio específico\n",
    "            z.extractall(destination_directory)\n",
    "            zip_name = z.namelist()[0]\n",
    "        else:\n",
    "            print(\"La solicitud falló con el código de estado:\", response.status_code)\n",
    "        \n",
    "        path_zip_dia = f\"{destination_directory}\\{zip_name}\"\n",
    "\n",
    "        #print(path_zip_dia)\n",
    "\n",
    "        with zipfile.ZipFile(path_zip_dia, 'r') as zip_ref:\n",
    "            # Encontrar el nombre del archivo MDB dentro del ZIP diario\n",
    "            #archivo_mdb = os.path.splitext(zip_name)[0] + \".mdb\"\n",
    "            #zip_ref.extract(archivo_mdb, path=\".zips\\ex\")\n",
    "            #print(zip_name)\n",
    "            zip_ref.extractall(f\".zips\\ex\\{zip_name}\")\n",
    "except requests.exceptions.RequestException as e:\n",
    "    # Manejar la excepción\n",
    "    print(\"Error al realizar la solicitud:\", e)"
   ]
  }
 ],
 "metadata": {
  "kernelspec": {
   "display_name": "venvPampa",
   "language": "python",
   "name": "python3"
  },
  "language_info": {
   "codemirror_mode": {
    "name": "ipython",
    "version": 3
   },
   "file_extension": ".py",
   "mimetype": "text/x-python",
   "name": "python",
   "nbconvert_exporter": "python",
   "pygments_lexer": "ipython3",
   "version": "3.11.1"
  }
 },
 "nbformat": 4,
 "nbformat_minor": 2
}
