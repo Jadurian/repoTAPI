{
 "cells": [
  {
   "cell_type": "code",
   "execution_count": 1,
   "metadata": {},
   "outputs": [],
   "source": [
    "import os\n",
    "import pandas as pd\n",
    "import zipfile\n",
    "import pyodbc\n",
    "import requests\n",
    "import io\n",
    "from datetime import datetime, timedelta\n",
    "from dateutil.relativedelta import relativedelta\n",
    "import sqlalchemy\n",
    "import urllib\n",
    "import warnings\n",
    "warnings.filterwarnings('ignore')"
   ]
  },
  {
   "cell_type": "code",
   "execution_count": 2,
   "metadata": {},
   "outputs": [],
   "source": [
    "def iterar_entre_meses(fecha_desde, fecha_hasta):\n",
    "    fecha_actual = datetime.strptime(fecha_desde, \"%Y-%m-%dT%H:%M:%S.%f%z\")\n",
    "    fecha_fin = datetime.strptime(fecha_hasta, \"%Y-%m-%dT%H:%M:%S.%f%z\")\n",
    "    \n",
    "    while fecha_actual < fecha_fin:\n",
    "        # Primer día del mes actual\n",
    "        primer_dia_mes = fecha_actual.replace(day=1)\n",
    "        # Último día del mes actual\n",
    "        if fecha_actual.month == 12:\n",
    "            ultimo_dia_mes = fecha_actual.replace(day=31)\n",
    "        else:\n",
    "            primer_dia_siguiente_mes = fecha_actual.replace(day=1) + relativedelta(months=1)\n",
    "            ultimo_dia_mes = primer_dia_siguiente_mes - timedelta(days=1)\n",
    "        \n",
    "        yield primer_dia_mes, ultimo_dia_mes\n",
    "        \n",
    "        # Avanza al siguiente mes\n",
    "        fecha_actual = fecha_actual + relativedelta(months=1)"
   ]
  },
  {
   "cell_type": "code",
   "execution_count": 5,
   "metadata": {},
   "outputs": [],
   "source": [
    "NEMO = \"DTE_EMISION\"\n",
    "\n",
    "URL = f\"https://api.cammesa.com/pub-svc/public/\"\n",
    "\n",
    "server = 'DARCCVWSQL19'\n",
    "database = 'TAPI'\n",
    "\n",
    "tabla_Q_Reporte_NO_Corregidos = 'Q_Reporte_NO_Corregidos'\n",
    "tabla_GenTER_NO_Corregidos = 'GenTer_NO_Corregidos'\n",
    "tabla_GenHID_NO_Corregidos = 'GenHID_NO_Corregidos'\n",
    "tabla_GenMATER_NO_Corregidos = 'GenMATER_NO_Corregidos'\n",
    "tabla_GenBOM_NO_Corregidos = 'GenBOM_NO_Corregidos'\n",
    "\n",
    "tabla_Q_Reporte_Corregidos = 'Q_Reporte_Corregidos'\n",
    "tabla_GenTER_Corregidos = 'GenTer_Corregidos'\n",
    "tabla_GenHID_Corregidos = 'GenHID_Corregidos'\n",
    "tabla_GenMATER_Corregidos = 'GenMATER_Corregidos'\n",
    "tabla_GenBOM_Corregidos = 'GenBOM_Corregidos'\n",
    "\n",
    "method_id = \"findDocumentosByNemoRango?\" #ID\n",
    "method_zip = \"findAllAttachmentZipByNemoId?\"\n",
    "\n",
    "fecha_desde = \"2023-01-01T00:00:00.000-03:00\"\n",
    "fecha_hasta = \"2023-03-31T23:59:59.000-03:00\"\n",
    "\n",
    "connection_string = f'DRIVER=ODBC Driver 17 for SQL Server;SERVER={server};DATABASE={database};Trusted_Connection=yes;'"
   ]
  },
  {
   "cell_type": "code",
   "execution_count": 6,
   "metadata": {},
   "outputs": [
    {
     "name": "stdout",
     "output_type": "stream",
     "text": [
      "Primer día del mes: 2023-01-01 00:00:00-03:00\n",
      "Último día del mes: 2023-01-31 00:00:00-03:00\n",
      "Primer día del mes: 2023-02-01 00:00:00-03:00\n",
      "Último día del mes: 2023-02-28 00:00:00-03:00\n",
      "Primer día del mes: 2023-03-01 00:00:00-03:00\n",
      "Último día del mes: 2023-03-31 00:00:00-03:00\n"
     ]
    }
   ],
   "source": [
    "for fecha_actual, fecha_siguiente in iterar_entre_meses(fecha_desde,fecha_hasta):\n",
    "    print(\"Primer día del mes:\", fecha_actual)\n",
    "    print(\"Último día del mes:\", fecha_siguiente)"
   ]
  },
  {
   "cell_type": "code",
   "execution_count": 7,
   "metadata": {},
   "outputs": [],
   "source": [
    "url_doc_id = f\"{URL}{method_id}fechadesde={fecha_desde}&fechahasta={fecha_hasta}&nemo={NEMO}\""
   ]
  },
  {
   "cell_type": "code",
   "execution_count": 9,
   "metadata": {},
   "outputs": [],
   "source": [
    "try:\n",
    "    with requests.get(url_doc_id) as response:\n",
    "        if response.status_code == 200:\n",
    "            DTE=response.json()\n",
    "            doc_id = DTE[-1]['id']\n",
    "            print()\n",
    "\n",
    "        else:\n",
    "            print(\"La solicitud falló con el código de estado:\", response.status_code)\n",
    "except requests.exceptions.RequestException as e:\n",
    "    # Manejar la excepción\n",
    "    print(\"Error al realizar la solicitud:\", e)"
   ]
  },
  {
   "cell_type": "code",
   "execution_count": 10,
   "metadata": {},
   "outputs": [],
   "source": [
    "url_zip = f\"{URL}{method_zip}docId={doc_id}&nemo={NEMO}\""
   ]
  },
  {
   "cell_type": "code",
   "execution_count": 11,
   "metadata": {},
   "outputs": [
    {
     "name": "stdout",
     "output_type": "stream",
     "text": [
      "DTE2404\n"
     ]
    }
   ],
   "source": [
    "try:\n",
    "    with requests.get(url_zip) as r:\n",
    "\n",
    "        if r.status_code == 200: #response 200\n",
    "            with zipfile.ZipFile(io.BytesIO(r.content)) as primer_zip: #trabaja el primer script\n",
    "                \n",
    "                files_inside = primer_zip.namelist() #listas archivos del primer zip\n",
    "                DTE_name = primer_zip.namelist()[0]\n",
    "                DTE_fecha = primer_zip.namelist()[0][:7]\n",
    "                \n",
    "                print(DTE_fecha)\n",
    "\n",
    "                path_dte = f\"../.zips/{DTE_fecha}\"   \n",
    "                \n",
    "                primer_zip.extract(f\"{DTE_name}\", path= path_dte)\n",
    "\n",
    "                with zipfile.ZipFile(f\"{path_dte}/{DTE_name}\", 'r') as segundo_zip: #trabaja el segundo script\n",
    "\n",
    "                    DTE_mdb_name = f\"{DTE_fecha}.MDB\"         \n",
    "                    \n",
    "                    segundo_zip.extract(f\"{DTE_mdb_name}\", path=path_dte)\n",
    "\n",
    "                    mdb_file = os.path.join(path_dte, DTE_mdb_name)\n",
    "                    conn_str = f\"Driver={{Microsoft Access Driver (*.mdb, *.accdb)}};DBQ={mdb_file};\"\n",
    "\n",
    "                    conn = pyodbc.connect(conn_str)\n",
    "\n",
    "                    Q_Reporte = pd.read_sql(\"SELECT * FROM Q_Reporte\", conn)\n",
    "                    GenMATER = pd.read_sql(\"SELECT * FROM GenMATER\", conn)\n",
    "                    GenTER = pd.read_sql(\"SELECT * FROM GenTER\", conn)\n",
    "                    GenHID = pd.read_sql(\"SELECT * FROM GenHID\", conn)\n",
    "                    GenBOM = pd.read_sql(\"SELECT * FROM GenBOM\", conn)\n",
    "                    \n",
    "                    conn.close()\n",
    "\n",
    "                    quoted = urllib.parse.quote_plus(connection_string)\n",
    "\n",
    "                    engine = sqlalchemy.create_engine('mssql+pyodbc:///?odbc_connect={}'.format(quoted))\n",
    "\n",
    "                    df_Q_Reporte = Q_Reporte.to_sql(f'{tabla_Q_Reporte_Corregidos}', schema='dbo', con=engine, if_exists='append', chunksize=20000)\n",
    "                    df_GenMATER = GenMATER.to_sql(f'{tabla_GenMATER_Corregidos}', schema='dbo', con=engine, if_exists='append', chunksize=20000)\n",
    "                    df_GenTER = GenTER.to_sql(f'{tabla_GenTER_Corregidos}', schema='dbo', con=engine, if_exists='append', chunksize=20000)\n",
    "                    df_GenHID = GenHID.to_sql(f'{tabla_GenHID_Corregidos}', schema='dbo', con=engine, if_exists='append', chunksize=20000)\n",
    "                    df_GenBOM = GenBOM.to_sql(f'{tabla_GenBOM_Corregidos}', schema='dbo', con=engine, if_exists='append', chunksize=20000)\n",
    "                    \n",
    "                \n",
    "        else:\n",
    "            print(\"La solicitud falló con el código de estado:\", response.status_code)\n",
    "\n",
    "except requests.exceptions.RequestException as e:\n",
    "    # Manejar la excepción\n",
    "    print(\"Error al realizar la solicitud:\", e)"
   ]
  },
  {
   "cell_type": "code",
   "execution_count": null,
   "metadata": {},
   "outputs": [],
   "source": []
  }
 ],
 "metadata": {
  "kernelspec": {
   "display_name": ".venv",
   "language": "python",
   "name": "python3"
  },
  "language_info": {
   "codemirror_mode": {
    "name": "ipython",
    "version": 3
   },
   "file_extension": ".py",
   "mimetype": "text/x-python",
   "name": "python",
   "nbconvert_exporter": "python",
   "pygments_lexer": "ipython3",
   "version": "3.11.1"
  }
 },
 "nbformat": 4,
 "nbformat_minor": 2
}
