{
 "cells": [
  {
   "cell_type": "code",
   "execution_count": 1,
   "metadata": {},
   "outputs": [],
   "source": [
    "import os\n",
    "import pandas as pd\n",
    "import zipfile\n",
    "import pyodbc\n",
    "import requests\n",
    "import io\n",
    "from datetime import datetime, timedelta\n",
    "import sqlalchemy\n",
    "import urllib\n",
    "import warnings\n",
    "warnings.filterwarnings('ignore')"
   ]
  },
  {
   "cell_type": "code",
   "execution_count": 2,
   "metadata": {},
   "outputs": [],
   "source": [
    "NEMO = \"DTE_EMISION\"\n",
    "\n",
    "URL = f\"https://api.cammesa.com/pub-svc/public/\"\n",
    "\n",
    "method_id = \"findDocumentosByNemoRango?\" #ID\n",
    "method_zip = \"findAllAttachmentZipByNemoId?\"\n",
    "\n",
    "fecha_desde = \"2024-03-31T00:00:00.000-03:00\"\n",
    "fecha_hasta = \"2024-04-30T23:59:59.000-03:00\""
   ]
  },
  {
   "cell_type": "code",
   "execution_count": 3,
   "metadata": {},
   "outputs": [],
   "source": [
    "url_doc_id = f\"{URL}{method_id}fechadesde={fecha_desde}&fechahasta={fecha_hasta}&nemo={NEMO}\""
   ]
  },
  {
   "cell_type": "code",
   "execution_count": 5,
   "metadata": {},
   "outputs": [],
   "source": [
    "try:\n",
    "    with requests.get(url_doc_id) as response:\n",
    "        if response.status_code == 200:\n",
    "            PPO=response.json()\n",
    "            doc_id = PPO[-1]['id']\n",
    "        else:\n",
    "            print(\"La solicitud falló con el código de estado:\", response.status_code)\n",
    "except requests.exceptions.RequestException as e:\n",
    "    # Manejar la excepción\n",
    "    print(\"Error al realizar la solicitud:\", e)"
   ]
  },
  {
   "cell_type": "code",
   "execution_count": 6,
   "metadata": {},
   "outputs": [],
   "source": [
    "url_zip = f\"{URL}{method_zip}docId={doc_id}&nemo={NEMO}\""
   ]
  },
  {
   "cell_type": "code",
   "execution_count": 16,
   "metadata": {},
   "outputs": [],
   "source": [
    "try:\n",
    "    with requests.get(url_zip) as r:\n",
    "\n",
    "        if r.status_code == 200:\n",
    "            with zipfile.ZipFile(io.BytesIO(r.content)) as primer_zip:\n",
    "                \n",
    "                files_inside = primer_zip.namelist()\n",
    "                DTE_name = primer_zip.namelist()[0]\n",
    "                DTE_fecha = primer_zip.namelist()[0][:7]\n",
    "                \n",
    "                path_dte = f\"../.zips/{DTE_fecha}\"   \n",
    "                \n",
    "                #primer_zip.extractall(path=f\"../.zips/{DTE_fecha}\") #Extraer todos los archivos del primer .zip\n",
    "                primer_zip.extract(f\"{DTE_name}\", path= path_dte)\n",
    "\n",
    "                with zipfile.ZipFile(f\"{path_dte}/{DTE_name}\", 'r') as segundo_zip:\n",
    "\n",
    "                    DTE_mdb_name = f\"{DTE_fecha}.MDB\"\n",
    "\n",
    "                    segundo_zip.extract(f\"{DTE_mdb_name}\", path=path_dte)\n",
    "                \n",
    "        else:\n",
    "            print(\"La solicitud falló con el código de estado:\", response.status_code)\n",
    "\n",
    "except requests.exceptions.RequestException as e:\n",
    "    # Manejar la excepción\n",
    "    print(\"Error al realizar la solicitud:\", e)"
   ]
  }
 ],
 "metadata": {
  "kernelspec": {
   "display_name": ".venv",
   "language": "python",
   "name": "python3"
  },
  "language_info": {
   "codemirror_mode": {
    "name": "ipython",
    "version": 3
   },
   "file_extension": ".py",
   "mimetype": "text/x-python",
   "name": "python",
   "nbconvert_exporter": "python",
   "pygments_lexer": "ipython3",
   "version": "3.11.1"
  }
 },
 "nbformat": 4,
 "nbformat_minor": 2
}
