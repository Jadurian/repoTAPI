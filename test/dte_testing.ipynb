{
 "cells": [
  {
   "cell_type": "code",
   "execution_count": 1,
   "metadata": {},
   "outputs": [],
   "source": [
    "import os\n",
    "import pandas as pd\n",
    "import zipfile\n",
    "import pyodbc\n",
    "import requests\n",
    "import io\n",
    "from datetime import datetime, timedelta\n",
    "import sqlalchemy\n",
    "import urllib\n",
    "import warnings\n",
    "warnings.filterwarnings('ignore')"
   ]
  },
  {
   "cell_type": "code",
   "execution_count": 2,
   "metadata": {},
   "outputs": [],
   "source": [
    "NEMO = \"DTE_EMISION\"\n",
    "\n",
    "URL = f\"https://api.cammesa.com/pub-svc/public/\"\n",
    "\n",
    "method_id = {\n",
    "\n",
    "    \"findDocumentosByNemoRango?\": \n",
    "\n",
    "}\n",
    "method_id = \"findDocumentosByNemoRango?\" #ID\n",
    "method_zip = \"findAllAttachmentZipByNemoId?\"\n",
    "\n",
    "fecha_desde = \"2024-03-31T00:00:00.000-03:00\"\n",
    "fecha_hasta = \"2024-04-30T23:59:59.000-03:00\""
   ]
  },
  {
   "cell_type": "code",
   "execution_count": 3,
   "metadata": {},
   "outputs": [],
   "source": [
    "url_doc_id = f\"{URL}{method_id}fechadesde={fecha_desde}&fechahasta={fecha_hasta}&nemo={NEMO}\""
   ]
  },
  {
   "cell_type": "code",
   "execution_count": 4,
   "metadata": {},
   "outputs": [],
   "source": [
    "try:\n",
    "    with requests.get(url_doc_id) as response:\n",
    "        if response.status_code == 200:\n",
    "            PPO=response.json()\n",
    "            doc_id = PPO[-1]['id']\n",
    "        else:\n",
    "            print(\"La solicitud falló con el código de estado:\", response.status_code)\n",
    "except requests.exceptions.RequestException as e:\n",
    "    # Manejar la excepción\n",
    "    print(\"Error al realizar la solicitud:\", e)"
   ]
  },
  {
   "cell_type": "code",
   "execution_count": 5,
   "metadata": {},
   "outputs": [],
   "source": [
    "url_zip = f\"{URL}{method_zip}docId={doc_id}&nemo={NEMO}\""
   ]
  },
  {
   "cell_type": "code",
   "execution_count": 25,
   "metadata": {},
   "outputs": [
    {
     "ename": "FileExistsError",
     "evalue": "[WinError 183] No se puede crear un archivo que ya existe: '../.zips/DTE2404/DTE2404.zip'",
     "output_type": "error",
     "traceback": [
      "\u001b[1;31m---------------------------------------------------------------------------\u001b[0m",
      "\u001b[1;31mFileExistsError\u001b[0m                           Traceback (most recent call last)",
      "Cell \u001b[1;32mIn[25], line 15\u001b[0m\n\u001b[0;32m     12\u001b[0m os\u001b[38;5;241m.\u001b[39mmkdir(path\u001b[38;5;241m=\u001b[39m\u001b[38;5;124mf\u001b[39m\u001b[38;5;124m\"\u001b[39m\u001b[38;5;124m../.zips/\u001b[39m\u001b[38;5;132;01m{\u001b[39;00mDTE_fecha\u001b[38;5;132;01m}\u001b[39;00m\u001b[38;5;124m\"\u001b[39m)\n\u001b[0;32m     13\u001b[0m z\u001b[38;5;241m.\u001b[39mextractall(path\u001b[38;5;241m=\u001b[39m\u001b[38;5;124mf\u001b[39m\u001b[38;5;124m\"\u001b[39m\u001b[38;5;124m../.zips/\u001b[39m\u001b[38;5;132;01m{\u001b[39;00mDTE_fecha\u001b[38;5;132;01m}\u001b[39;00m\u001b[38;5;124m/\u001b[39m\u001b[38;5;132;01m{\u001b[39;00mDTE_name\u001b[38;5;132;01m}\u001b[39;00m\u001b[38;5;124m\"\u001b[39m) \u001b[38;5;66;03m#Extraer todos los archivos del primer .zip\u001b[39;00m\n\u001b[1;32m---> 15\u001b[0m \u001b[43mos\u001b[49m\u001b[38;5;241;43m.\u001b[39;49m\u001b[43mmkdir\u001b[49m\u001b[43m(\u001b[49m\u001b[43mpath\u001b[49m\u001b[38;5;241;43m=\u001b[39;49m\u001b[38;5;124;43mf\u001b[39;49m\u001b[38;5;124;43m\"\u001b[39;49m\u001b[38;5;124;43m../.zips/\u001b[39;49m\u001b[38;5;132;43;01m{\u001b[39;49;00m\u001b[43mDTE_fecha\u001b[49m\u001b[38;5;132;43;01m}\u001b[39;49;00m\u001b[38;5;124;43m/\u001b[39;49m\u001b[38;5;132;43;01m{\u001b[39;49;00m\u001b[43mDTE_name\u001b[49m\u001b[38;5;132;43;01m}\u001b[39;49;00m\u001b[38;5;124;43m\"\u001b[39;49m\u001b[43m)\u001b[49m\n\u001b[0;32m     18\u001b[0m \u001b[38;5;66;03m# Ruta al archivo .zip\u001b[39;00m\n\u001b[0;32m     19\u001b[0m segundo_zip_path \u001b[38;5;241m=\u001b[39m \u001b[38;5;124mf\u001b[39m\u001b[38;5;124m\"\u001b[39m\u001b[38;5;124m../.zips/\u001b[39m\u001b[38;5;132;01m{\u001b[39;00mDTE_fecha\u001b[38;5;132;01m}\u001b[39;00m\u001b[38;5;124m/\u001b[39m\u001b[38;5;132;01m{\u001b[39;00mDTE_name\u001b[38;5;132;01m}\u001b[39;00m\u001b[38;5;124m\"\u001b[39m\n",
      "\u001b[1;31mFileExistsError\u001b[0m: [WinError 183] No se puede crear un archivo que ya existe: '../.zips/DTE2404/DTE2404.zip'"
     ]
    }
   ],
   "source": [
    "try:\n",
    "    with requests.get(url_zip) as r:\n",
    "\n",
    "        if r.status_code == 200:\n",
    "            with zipfile.ZipFile(io.BytesIO(r.content)) as primer_zip:\n",
    "                z = primer_zip\n",
    "                \n",
    "                files_inside = z.namelist()\n",
    "                DTE_name = z.namelist()[0]\n",
    "                DTE_fecha = z.namelist()[0][:7]\n",
    "                                \n",
    "                os.mkdir(path=f\"../.zips/{DTE_fecha}\")\n",
    "                z.extractall(path=f\"../.zips/{DTE_fecha}\") #Extraer todos los archivos del primer .zip\n",
    "\n",
    "                os.mkdir(path=f\"../.zips/{DTE_fecha}/{DTE_name}/\")\n",
    "\n",
    "\n",
    "                # Ruta al archivo .zip\n",
    "                segundo_zip_path = f\"../.zips/{DTE_fecha}/{DTE_name}/{DTE_name}\"\n",
    "\n",
    "                try:\n",
    "                    # Verificar si el archivo .zip existe\n",
    "                    if not os.path.exists(segundo_zip_path):\n",
    "                        raise FileNotFoundError(f\"El archivo .zip '{segundo_zip_path}' no existe.\")\n",
    "\n",
    "                    # Abrir el archivo .zip\n",
    "                    with zipfile.ZipFile(segundo_zip_path, 'r') as zip_ref:\n",
    "                        # Listar todos los archivos en el archivo .zip\n",
    "                        lista_archivos = zip_ref.namelist()\n",
    "                        print(\"Archivos en el .zip:\")\n",
    "                        for archivo in lista_archivos:\n",
    "                            print(archivo)\n",
    "                        \n",
    "                        # Extraer todos los archivos a un directorio específico\n",
    "                        ruta_extraccion = f\"../.zips/{DTE_fecha}/{DTE_fecha}\"\n",
    "                        zip_ref.extractall(ruta_extraccion)\n",
    "                        print(f\"Todos los archivos extraídos exitosamente en '{ruta_extraccion}'.\")\n",
    "                        \n",
    "\n",
    "                except FileNotFoundError as fnf_error:\n",
    "                    print(fnf_error)\n",
    "                except zipfile.BadZipFile as bzf_error:\n",
    "                    print(f\"Error con el archivo .zip: {bzf_error}\")\n",
    "                except Exception as error:\n",
    "                    print(f\"Error: {error}\")\n",
    "\n",
    "        else:\n",
    "            print(\"La solicitud falló con el código de estado:\", response.status_code)\n",
    "\n",
    "except requests.exceptions.RequestException as e:\n",
    "    # Manejar la excepción\n",
    "    print(\"Error al realizar la solicitud:\", e)\n",
    "\n"
   ]
  }
 ],
 "metadata": {
  "kernelspec": {
   "display_name": ".venv",
   "language": "python",
   "name": "python3"
  },
  "language_info": {
   "codemirror_mode": {
    "name": "ipython",
    "version": 3
   },
   "file_extension": ".py",
   "mimetype": "text/x-python",
   "name": "python",
   "nbconvert_exporter": "python",
   "pygments_lexer": "ipython3",
   "version": "3.11.8"
  }
 },
 "nbformat": 4,
 "nbformat_minor": 2
}
