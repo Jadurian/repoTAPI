{
 "cells": [
  {
   "cell_type": "code",
   "execution_count": 1,
   "metadata": {},
   "outputs": [],
   "source": [
    "import os\n",
    "import pandas as pd\n",
    "import zipfile\n",
    "import pyodbc\n",
    "import requests\n",
    "import io\n",
    "from datetime import datetime, timedelta\n",
    "import sqlalchemy\n",
    "import urllib\n",
    "import warnings\n",
    "warnings.filterwarnings('ignore')"
   ]
  },
  {
   "cell_type": "code",
   "execution_count": 2,
   "metadata": {},
   "outputs": [],
   "source": [
    "NEMO = \"DTE_EMISION\"\n",
    "\n",
    "URL = f\"https://api.cammesa.com/pub-svc/public/\"\n",
    "\n",
    "method_id = \"findDocumentosByNemoRango?\" #ID\n",
    "method_zip = \"findAllAttachmentZipByNemoId?\"\n",
    "\n",
    "fecha_desde = \"2024-03-31T00:00:00.000-03:00\"\n",
    "fecha_hasta = \"2024-04-30T23:59:59.000-03:00\""
   ]
  },
  {
   "cell_type": "code",
   "execution_count": 3,
   "metadata": {},
   "outputs": [],
   "source": [
    "url_doc_id = f\"{URL}{method_id}fechadesde={fecha_desde}&fechahasta={fecha_hasta}&nemo={NEMO}\""
   ]
  },
  {
   "cell_type": "code",
   "execution_count": 5,
   "metadata": {},
   "outputs": [],
   "source": [
    "try:\n",
    "    with requests.get(url_doc_id) as response:\n",
    "        if response.status_code == 200:\n",
    "            PPO=response.json()\n",
    "            doc_id = PPO[-1]['id']\n",
    "        else:\n",
    "            print(\"La solicitud falló con el código de estado:\", response.status_code)\n",
    "except requests.exceptions.RequestException as e:\n",
    "    # Manejar la excepción\n",
    "    print(\"Error al realizar la solicitud:\", e)"
   ]
  },
  {
   "cell_type": "code",
   "execution_count": 6,
   "metadata": {},
   "outputs": [],
   "source": [
    "url_zip = f\"{URL}{method_zip}docId={doc_id}&nemo={NEMO}\""
   ]
  },
  {
   "cell_type": "code",
   "execution_count": 7,
   "metadata": {},
   "outputs": [
    {
     "name": "stdout",
     "output_type": "stream",
     "text": [
      "Error: [Errno 13] Permission denied: '../.zips/DTE2404'\n"
     ]
    }
   ],
   "source": [
    "try:\n",
    "    with requests.get(url_zip) as r:\n",
    "\n",
    "        if r.status_code == 200:\n",
    "            with zipfile.ZipFile(io.BytesIO(r.content)) as primer_zip:\n",
    "                z = primer_zip\n",
    "                \n",
    "                files_inside = z.namelist()\n",
    "                DTE_name = z.namelist()[0]\n",
    "                DTE_fecha = z.namelist()[0][:7]\n",
    "\n",
    "                path_dte = f\"../.zips/{DTE_fecha}\"                \n",
    "                os.mkdir(path=path_dte)\n",
    "                \n",
    "                z.extractall(path=f\"../.zips/{DTE_fecha}\") #Extraer todos los archivos del primer .zip\n",
    "\n",
    "\n",
    "\n",
    "                # Ruta al archivo .zip\n",
    "                try:\n",
    "                    # Verificar si el archivo .zip existe\n",
    "                    if not os.path.exists(path_dte):\n",
    "                        raise FileNotFoundError(f\"El archivo .zip '{path_dte}' no existe.\")\n",
    "\n",
    "                    # Abrir el archivo .zip\n",
    "                    with zipfile.ZipFile(path_dte, 'r') as zip_ref:\n",
    "                        # Listar todos los archivos en el archivo .zip\n",
    "                        lista_archivos = zip_ref.namelist()\n",
    "                        print(\"Archivos en el .zip:\")\n",
    "                        for archivo in lista_archivos:\n",
    "                            print(archivo)\n",
    "                        \n",
    "                        # Extraer todos los archivos a un directorio específico\n",
    "                        \n",
    "                        zip_ref.extractall(path_dte)\n",
    "                        print(f\"Todos los archivos extraídos exitosamente en '{path_dte}'.\")\n",
    "                        \n",
    "\n",
    "                except FileNotFoundError as fnf_error:\n",
    "                    print(fnf_error)\n",
    "                except zipfile.BadZipFile as bzf_error:\n",
    "                    print(f\"Error con el archivo .zip: {bzf_error}\")\n",
    "                except Exception as error:\n",
    "                    print(f\"Error: {error}\")\n",
    "\n",
    "        else:\n",
    "            print(\"La solicitud falló con el código de estado:\", response.status_code)\n",
    "\n",
    "except requests.exceptions.RequestException as e:\n",
    "    # Manejar la excepción\n",
    "    print(\"Error al realizar la solicitud:\", e)\n",
    "\n"
   ]
  }
 ],
 "metadata": {
  "kernelspec": {
   "display_name": ".venv",
   "language": "python",
   "name": "python3"
  },
  "language_info": {
   "codemirror_mode": {
    "name": "ipython",
    "version": 3
   },
   "file_extension": ".py",
   "mimetype": "text/x-python",
   "name": "python",
   "nbconvert_exporter": "python",
   "pygments_lexer": "ipython3",
   "version": "3.11.8"
  }
 },
 "nbformat": 4,
 "nbformat_minor": 2
}
